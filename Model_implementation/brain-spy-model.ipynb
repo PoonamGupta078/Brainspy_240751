{
 "cells": [
  {
   "cell_type": "markdown",
   "metadata": {},
   "source": [
    "# MODEL (RESNET- 50)"
   ]
  },
  {
   "cell_type": "code",
   "execution_count": 1,
   "metadata": {
    "_cell_guid": "b1076dfc-b9ad-4769-8c92-a6c4dae69d19",
    "_uuid": "8f2839f25d086af736a60e9eeb907d3b93b6e0e5",
    "execution": {
     "iopub.execute_input": "2025-06-27T09:57:42.859629Z",
     "iopub.status.busy": "2025-06-27T09:57:42.859387Z",
     "iopub.status.idle": "2025-06-27T09:57:50.707538Z",
     "shell.execute_reply": "2025-06-27T09:57:50.706823Z",
     "shell.execute_reply.started": "2025-06-27T09:57:42.859602Z"
    },
    "trusted": true
   },
   "outputs": [
    {
     "name": "stdout",
     "output_type": "stream",
     "text": [
      "Collecting scikit-learn==1.3.2\n",
      "  Downloading scikit_learn-1.3.2-cp311-cp311-manylinux_2_17_x86_64.manylinux2014_x86_64.whl.metadata (11 kB)\n",
      "Collecting imbalanced-learn==0.11.0\n",
      "  Downloading imbalanced_learn-0.11.0-py3-none-any.whl.metadata (8.3 kB)\n",
      "Requirement already satisfied: numpy<2.0,>=1.17.3 in /usr/local/lib/python3.11/dist-packages (from scikit-learn==1.3.2) (1.26.4)\n",
      "Requirement already satisfied: scipy>=1.5.0 in /usr/local/lib/python3.11/dist-packages (from scikit-learn==1.3.2) (1.15.2)\n",
      "Requirement already satisfied: joblib>=1.1.1 in /usr/local/lib/python3.11/dist-packages (from scikit-learn==1.3.2) (1.5.0)\n",
      "Requirement already satisfied: threadpoolctl>=2.0.0 in /usr/local/lib/python3.11/dist-packages (from scikit-learn==1.3.2) (3.6.0)\n",
      "Requirement already satisfied: mkl_fft in /usr/local/lib/python3.11/dist-packages (from numpy<2.0,>=1.17.3->scikit-learn==1.3.2) (1.3.8)\n",
      "Requirement already satisfied: mkl_random in /usr/local/lib/python3.11/dist-packages (from numpy<2.0,>=1.17.3->scikit-learn==1.3.2) (1.2.4)\n",
      "Requirement already satisfied: mkl_umath in /usr/local/lib/python3.11/dist-packages (from numpy<2.0,>=1.17.3->scikit-learn==1.3.2) (0.1.1)\n",
      "Requirement already satisfied: mkl in /usr/local/lib/python3.11/dist-packages (from numpy<2.0,>=1.17.3->scikit-learn==1.3.2) (2025.1.0)\n",
      "Requirement already satisfied: tbb4py in /usr/local/lib/python3.11/dist-packages (from numpy<2.0,>=1.17.3->scikit-learn==1.3.2) (2022.1.0)\n",
      "Requirement already satisfied: mkl-service in /usr/local/lib/python3.11/dist-packages (from numpy<2.0,>=1.17.3->scikit-learn==1.3.2) (2.4.1)\n",
      "Requirement already satisfied: intel-openmp<2026,>=2024 in /usr/local/lib/python3.11/dist-packages (from mkl->numpy<2.0,>=1.17.3->scikit-learn==1.3.2) (2024.2.0)\n",
      "Requirement already satisfied: tbb==2022.* in /usr/local/lib/python3.11/dist-packages (from mkl->numpy<2.0,>=1.17.3->scikit-learn==1.3.2) (2022.1.0)\n",
      "Requirement already satisfied: tcmlib==1.* in /usr/local/lib/python3.11/dist-packages (from tbb==2022.*->mkl->numpy<2.0,>=1.17.3->scikit-learn==1.3.2) (1.3.0)\n",
      "Requirement already satisfied: intel-cmplr-lib-rt in /usr/local/lib/python3.11/dist-packages (from mkl_umath->numpy<2.0,>=1.17.3->scikit-learn==1.3.2) (2024.2.0)\n",
      "Requirement already satisfied: intel-cmplr-lib-ur==2024.2.0 in /usr/local/lib/python3.11/dist-packages (from intel-openmp<2026,>=2024->mkl->numpy<2.0,>=1.17.3->scikit-learn==1.3.2) (2024.2.0)\n",
      "Downloading scikit_learn-1.3.2-cp311-cp311-manylinux_2_17_x86_64.manylinux2014_x86_64.whl (10.9 MB)\n",
      "\u001b[2K   \u001b[90m━━━━━━━━━━━━━━━━━━━━━━━━━━━━━━━━━━━━━━━━\u001b[0m \u001b[32m10.9/10.9 MB\u001b[0m \u001b[31m100.5 MB/s\u001b[0m eta \u001b[36m0:00:00\u001b[0m00:01\u001b[0m0:01\u001b[0m\n",
      "\u001b[?25hDownloading imbalanced_learn-0.11.0-py3-none-any.whl (235 kB)\n",
      "\u001b[2K   \u001b[90m━━━━━━━━━━━━━━━━━━━━━━━━━━━━━━━━━━━━━━━━\u001b[0m \u001b[32m235.6/235.6 kB\u001b[0m \u001b[31m12.8 MB/s\u001b[0m eta \u001b[36m0:00:00\u001b[0m\n",
      "\u001b[?25hInstalling collected packages: scikit-learn, imbalanced-learn\n",
      "  Attempting uninstall: scikit-learn\n",
      "    Found existing installation: scikit-learn 1.2.2\n",
      "    Uninstalling scikit-learn-1.2.2:\n",
      "      Successfully uninstalled scikit-learn-1.2.2\n",
      "  Attempting uninstall: imbalanced-learn\n",
      "    Found existing installation: imbalanced-learn 0.13.0\n",
      "    Uninstalling imbalanced-learn-0.13.0:\n",
      "      Successfully uninstalled imbalanced-learn-0.13.0\n",
      "\u001b[31mERROR: pip's dependency resolver does not currently take into account all the packages that are installed. This behaviour is the source of the following dependency conflicts.\n",
      "cesium 0.12.4 requires numpy<3.0,>=2.0, but you have numpy 1.26.4 which is incompatible.\u001b[0m\u001b[31m\n",
      "\u001b[0mSuccessfully installed imbalanced-learn-0.11.0 scikit-learn-1.3.2\n"
     ]
    }
   ],
   "source": [
    "!pip install scikit-learn==1.3.2 imbalanced-learn==0.11.0"
   ]
  },
  {
   "cell_type": "code",
   "execution_count": 4,
   "metadata": {
    "execution": {
     "iopub.execute_input": "2025-06-27T10:00:25.694534Z",
     "iopub.status.busy": "2025-06-27T10:00:25.693980Z",
     "iopub.status.idle": "2025-06-27T10:00:25.826482Z",
     "shell.execute_reply": "2025-06-27T10:00:25.825916Z",
     "shell.execute_reply.started": "2025-06-27T10:00:25.694509Z"
    },
    "trusted": true
   },
   "outputs": [
    {
     "name": "stdout",
     "output_type": "stream",
     "text": [
      "Found 230 matching NIfTI files out of 2294 metadata rows\n",
      "Saved filtered_mri_labels.csv\n"
     ]
    }
   ],
   "source": [
    "import pandas as pd\n",
    "import os\n",
    "import glob\n",
    "\n",
    "metadata_path = \"/kaggle/input/adni-data/ADNI1_Complete_1Yr_1.5T_6_20_2025.csv\"\n",
    "df = pd.read_csv(metadata_path)\n",
    "\n",
    "df = df.rename(columns={\n",
    "    \"Image Data ID\": \"ImageID\",\n",
    "    \"Subject\": \"SubjectID\",\n",
    "    \"Group\": \"Diagnosis\"\n",
    "})\n",
    "df = df.dropna(subset=[\"ImageID\", \"SubjectID\", \"Diagnosis\"])\n",
    "df[\"ImageID\"] = df[\"ImageID\"].astype(str).str.strip()\n",
    "df[\"SubjectID\"] = df[\"SubjectID\"].astype(str).str.strip()\n",
    "\n",
    "preprocessed_dir = \"/kaggle/input/mri-preprocess-images/Preprocessed_ADNI_flat\"\n",
    "all_files = glob.glob(os.path.join(preprocessed_dir, \"*.nii\"))\n",
    "imageid_to_path = {}\n",
    "for path in all_files:\n",
    "    fname = os.path.basename(path)\n",
    "    for img_id in df[\"ImageID\"].unique():\n",
    "        if img_id in fname:\n",
    "            imageid_to_path[img_id] = path\n",
    "            break\n",
    "\n",
    "print(f\"Found {len(imageid_to_path)} matching NIfTI files out of {len(df)} metadata rows\")\n",
    "\n",
    "df[\"FilePath\"] = df[\"ImageID\"].map(imageid_to_path)\n",
    "df = df.dropna(subset=[\"FilePath\"])\n",
    "\n",
    "label_map = {\"CN\": 0, \"AD\": 1, \"MCI\": 2}\n",
    "df[\"Label\"] = df[\"Diagnosis\"].map(label_map)\n",
    "\n",
    "df[[\"FilePath\", \"Label\"]].to_csv(\"filtered_mri_labels.csv\", index=False)\n",
    "print(\"Saved filtered_mri_labels.csv\")"
   ]
  },
  {
   "cell_type": "code",
   "execution_count": 5,
   "metadata": {
    "execution": {
     "iopub.execute_input": "2025-06-27T10:00:44.782508Z",
     "iopub.status.busy": "2025-06-27T10:00:44.782234Z",
     "iopub.status.idle": "2025-06-27T10:02:00.868978Z",
     "shell.execute_reply": "2025-06-27T10:02:00.868007Z",
     "shell.execute_reply.started": "2025-06-27T10:00:44.782486Z"
    },
    "trusted": true
   },
   "outputs": [
    {
     "name": "stdout",
     "output_type": "stream",
     "text": [
      "Requirement already satisfied: scikit-learn in /usr/local/lib/python3.11/dist-packages (1.3.2)\n",
      "Requirement already satisfied: torchvision in /usr/local/lib/python3.11/dist-packages (0.21.0+cu124)\n",
      "Requirement already satisfied: nibabel in /usr/local/lib/python3.11/dist-packages (5.3.2)\n",
      "Requirement already satisfied: opencv-python in /usr/local/lib/python3.11/dist-packages (4.11.0.86)\n",
      "Requirement already satisfied: scikit-image in /usr/local/lib/python3.11/dist-packages (0.25.2)\n",
      "Requirement already satisfied: scikit-optimize in /usr/local/lib/python3.11/dist-packages (0.10.2)\n",
      "Requirement already satisfied: numpy<2.0,>=1.17.3 in /usr/local/lib/python3.11/dist-packages (from scikit-learn) (1.26.4)\n",
      "Requirement already satisfied: scipy>=1.5.0 in /usr/local/lib/python3.11/dist-packages (from scikit-learn) (1.15.2)\n",
      "Requirement already satisfied: joblib>=1.1.1 in /usr/local/lib/python3.11/dist-packages (from scikit-learn) (1.5.0)\n",
      "Requirement already satisfied: threadpoolctl>=2.0.0 in /usr/local/lib/python3.11/dist-packages (from scikit-learn) (3.6.0)\n",
      "Requirement already satisfied: torch==2.6.0 in /usr/local/lib/python3.11/dist-packages (from torchvision) (2.6.0+cu124)\n",
      "Requirement already satisfied: pillow!=8.3.*,>=5.3.0 in /usr/local/lib/python3.11/dist-packages (from torchvision) (11.1.0)\n",
      "Requirement already satisfied: filelock in /usr/local/lib/python3.11/dist-packages (from torch==2.6.0->torchvision) (3.18.0)\n",
      "Requirement already satisfied: typing-extensions>=4.10.0 in /usr/local/lib/python3.11/dist-packages (from torch==2.6.0->torchvision) (4.13.2)\n",
      "Requirement already satisfied: networkx in /usr/local/lib/python3.11/dist-packages (from torch==2.6.0->torchvision) (3.4.2)\n",
      "Requirement already satisfied: jinja2 in /usr/local/lib/python3.11/dist-packages (from torch==2.6.0->torchvision) (3.1.6)\n",
      "Requirement already satisfied: fsspec in /usr/local/lib/python3.11/dist-packages (from torch==2.6.0->torchvision) (2025.3.2)\n",
      "Requirement already satisfied: nvidia-cuda-nvrtc-cu12==12.4.127 in /usr/local/lib/python3.11/dist-packages (from torch==2.6.0->torchvision) (12.4.127)\n",
      "Requirement already satisfied: nvidia-cuda-runtime-cu12==12.4.127 in /usr/local/lib/python3.11/dist-packages (from torch==2.6.0->torchvision) (12.4.127)\n",
      "Requirement already satisfied: nvidia-cuda-cupti-cu12==12.4.127 in /usr/local/lib/python3.11/dist-packages (from torch==2.6.0->torchvision) (12.4.127)\n",
      "Collecting nvidia-cudnn-cu12==9.1.0.70 (from torch==2.6.0->torchvision)\n",
      "  Downloading nvidia_cudnn_cu12-9.1.0.70-py3-none-manylinux2014_x86_64.whl.metadata (1.6 kB)\n",
      "Collecting nvidia-cublas-cu12==12.4.5.8 (from torch==2.6.0->torchvision)\n",
      "  Downloading nvidia_cublas_cu12-12.4.5.8-py3-none-manylinux2014_x86_64.whl.metadata (1.5 kB)\n",
      "Collecting nvidia-cufft-cu12==11.2.1.3 (from torch==2.6.0->torchvision)\n",
      "  Downloading nvidia_cufft_cu12-11.2.1.3-py3-none-manylinux2014_x86_64.whl.metadata (1.5 kB)\n",
      "Collecting nvidia-curand-cu12==10.3.5.147 (from torch==2.6.0->torchvision)\n",
      "  Downloading nvidia_curand_cu12-10.3.5.147-py3-none-manylinux2014_x86_64.whl.metadata (1.5 kB)\n",
      "Collecting nvidia-cusolver-cu12==11.6.1.9 (from torch==2.6.0->torchvision)\n",
      "  Downloading nvidia_cusolver_cu12-11.6.1.9-py3-none-manylinux2014_x86_64.whl.metadata (1.6 kB)\n",
      "Collecting nvidia-cusparse-cu12==12.3.1.170 (from torch==2.6.0->torchvision)\n",
      "  Downloading nvidia_cusparse_cu12-12.3.1.170-py3-none-manylinux2014_x86_64.whl.metadata (1.6 kB)\n",
      "Requirement already satisfied: nvidia-cusparselt-cu12==0.6.2 in /usr/local/lib/python3.11/dist-packages (from torch==2.6.0->torchvision) (0.6.2)\n",
      "Requirement already satisfied: nvidia-nccl-cu12==2.21.5 in /usr/local/lib/python3.11/dist-packages (from torch==2.6.0->torchvision) (2.21.5)\n",
      "Requirement already satisfied: nvidia-nvtx-cu12==12.4.127 in /usr/local/lib/python3.11/dist-packages (from torch==2.6.0->torchvision) (12.4.127)\n",
      "Collecting nvidia-nvjitlink-cu12==12.4.127 (from torch==2.6.0->torchvision)\n",
      "  Downloading nvidia_nvjitlink_cu12-12.4.127-py3-none-manylinux2014_x86_64.whl.metadata (1.5 kB)\n",
      "Requirement already satisfied: triton==3.2.0 in /usr/local/lib/python3.11/dist-packages (from torch==2.6.0->torchvision) (3.2.0)\n",
      "Requirement already satisfied: sympy==1.13.1 in /usr/local/lib/python3.11/dist-packages (from torch==2.6.0->torchvision) (1.13.1)\n",
      "Requirement already satisfied: mpmath<1.4,>=1.1.0 in /usr/local/lib/python3.11/dist-packages (from sympy==1.13.1->torch==2.6.0->torchvision) (1.3.0)\n",
      "Requirement already satisfied: importlib-resources>=5.12 in /usr/local/lib/python3.11/dist-packages (from nibabel) (6.5.2)\n",
      "Requirement already satisfied: packaging>=20 in /usr/local/lib/python3.11/dist-packages (from nibabel) (25.0)\n",
      "Requirement already satisfied: imageio!=2.35.0,>=2.33 in /usr/local/lib/python3.11/dist-packages (from scikit-image) (2.37.0)\n",
      "Requirement already satisfied: tifffile>=2022.8.12 in /usr/local/lib/python3.11/dist-packages (from scikit-image) (2025.3.30)\n",
      "Requirement already satisfied: lazy-loader>=0.4 in /usr/local/lib/python3.11/dist-packages (from scikit-image) (0.4)\n",
      "Requirement already satisfied: pyaml>=16.9 in /usr/local/lib/python3.11/dist-packages (from scikit-optimize) (25.1.0)\n",
      "Requirement already satisfied: mkl_fft in /usr/local/lib/python3.11/dist-packages (from numpy<2.0,>=1.17.3->scikit-learn) (1.3.8)\n",
      "Requirement already satisfied: mkl_random in /usr/local/lib/python3.11/dist-packages (from numpy<2.0,>=1.17.3->scikit-learn) (1.2.4)\n",
      "Requirement already satisfied: mkl_umath in /usr/local/lib/python3.11/dist-packages (from numpy<2.0,>=1.17.3->scikit-learn) (0.1.1)\n",
      "Requirement already satisfied: mkl in /usr/local/lib/python3.11/dist-packages (from numpy<2.0,>=1.17.3->scikit-learn) (2025.1.0)\n",
      "Requirement already satisfied: tbb4py in /usr/local/lib/python3.11/dist-packages (from numpy<2.0,>=1.17.3->scikit-learn) (2022.1.0)\n",
      "Requirement already satisfied: mkl-service in /usr/local/lib/python3.11/dist-packages (from numpy<2.0,>=1.17.3->scikit-learn) (2.4.1)\n",
      "Requirement already satisfied: PyYAML in /usr/local/lib/python3.11/dist-packages (from pyaml>=16.9->scikit-optimize) (6.0.2)\n",
      "Requirement already satisfied: MarkupSafe>=2.0 in /usr/local/lib/python3.11/dist-packages (from jinja2->torch==2.6.0->torchvision) (3.0.2)\n",
      "Requirement already satisfied: intel-openmp<2026,>=2024 in /usr/local/lib/python3.11/dist-packages (from mkl->numpy<2.0,>=1.17.3->scikit-learn) (2024.2.0)\n",
      "Requirement already satisfied: tbb==2022.* in /usr/local/lib/python3.11/dist-packages (from mkl->numpy<2.0,>=1.17.3->scikit-learn) (2022.1.0)\n",
      "Requirement already satisfied: tcmlib==1.* in /usr/local/lib/python3.11/dist-packages (from tbb==2022.*->mkl->numpy<2.0,>=1.17.3->scikit-learn) (1.3.0)\n",
      "Requirement already satisfied: intel-cmplr-lib-rt in /usr/local/lib/python3.11/dist-packages (from mkl_umath->numpy<2.0,>=1.17.3->scikit-learn) (2024.2.0)\n",
      "Requirement already satisfied: intel-cmplr-lib-ur==2024.2.0 in /usr/local/lib/python3.11/dist-packages (from intel-openmp<2026,>=2024->mkl->numpy<2.0,>=1.17.3->scikit-learn) (2024.2.0)\n",
      "Downloading nvidia_cublas_cu12-12.4.5.8-py3-none-manylinux2014_x86_64.whl (363.4 MB)\n",
      "\u001b[2K   \u001b[90m━━━━━━━━━━━━━━━━━━━━━━━━━━━━━━━━━━━━━━━━\u001b[0m \u001b[32m363.4/363.4 MB\u001b[0m \u001b[31m4.6 MB/s\u001b[0m eta \u001b[36m0:00:00\u001b[0m0:00:01\u001b[0m00:01\u001b[0m\n",
      "\u001b[?25hDownloading nvidia_cudnn_cu12-9.1.0.70-py3-none-manylinux2014_x86_64.whl (664.8 MB)\n",
      "\u001b[2K   \u001b[90m━━━━━━━━━━━━━━━━━━━━━━━━━━━━━━━━━━━━━━━━\u001b[0m \u001b[32m664.8/664.8 MB\u001b[0m \u001b[31m2.4 MB/s\u001b[0m eta \u001b[36m0:00:00\u001b[0m0:00:01\u001b[0m00:01\u001b[0m\n",
      "\u001b[?25hDownloading nvidia_cufft_cu12-11.2.1.3-py3-none-manylinux2014_x86_64.whl (211.5 MB)\n",
      "\u001b[2K   \u001b[90m━━━━━━━━━━━━━━━━━━━━━━━━━━━━━━━━━━━━━━━━\u001b[0m \u001b[32m211.5/211.5 MB\u001b[0m \u001b[31m2.0 MB/s\u001b[0m eta \u001b[36m0:00:00\u001b[0m0:00:01\u001b[0m00:01\u001b[0m\n",
      "\u001b[?25hDownloading nvidia_curand_cu12-10.3.5.147-py3-none-manylinux2014_x86_64.whl (56.3 MB)\n",
      "\u001b[2K   \u001b[90m━━━━━━━━━━━━━━━━━━━━━━━━━━━━━━━━━━━━━━━━\u001b[0m \u001b[32m56.3/56.3 MB\u001b[0m \u001b[31m30.4 MB/s\u001b[0m eta \u001b[36m0:00:00\u001b[0m:00:01\u001b[0m00:01\u001b[0m\n",
      "\u001b[?25hDownloading nvidia_cusolver_cu12-11.6.1.9-py3-none-manylinux2014_x86_64.whl (127.9 MB)\n",
      "\u001b[2K   \u001b[90m━━━━━━━━━━━━━━━━━━━━━━━━━━━━━━━━━━━━━━━━\u001b[0m \u001b[32m127.9/127.9 MB\u001b[0m \u001b[31m13.0 MB/s\u001b[0m eta \u001b[36m0:00:00\u001b[0m:00:01\u001b[0m00:01\u001b[0m\n",
      "\u001b[?25hDownloading nvidia_cusparse_cu12-12.3.1.170-py3-none-manylinux2014_x86_64.whl (207.5 MB)\n",
      "\u001b[2K   \u001b[90m━━━━━━━━━━━━━━━━━━━━━━━━━━━━━━━━━━━━━━━━\u001b[0m \u001b[32m207.5/207.5 MB\u001b[0m \u001b[31m8.1 MB/s\u001b[0m eta \u001b[36m0:00:00\u001b[0m0:00:01\u001b[0m00:01\u001b[0m\n",
      "\u001b[?25hDownloading nvidia_nvjitlink_cu12-12.4.127-py3-none-manylinux2014_x86_64.whl (21.1 MB)\n",
      "\u001b[2K   \u001b[90m━━━━━━━━━━━━━━━━━━━━━━━━━━━━━━━━━━━━━━━━\u001b[0m \u001b[32m21.1/21.1 MB\u001b[0m \u001b[31m75.5 MB/s\u001b[0m eta \u001b[36m0:00:00\u001b[0m:00:01\u001b[0m00:01\u001b[0m\n",
      "\u001b[?25hInstalling collected packages: nvidia-nvjitlink-cu12, nvidia-curand-cu12, nvidia-cufft-cu12, nvidia-cublas-cu12, nvidia-cusparse-cu12, nvidia-cudnn-cu12, nvidia-cusolver-cu12\n",
      "  Attempting uninstall: nvidia-nvjitlink-cu12\n",
      "    Found existing installation: nvidia-nvjitlink-cu12 12.9.41\n",
      "    Uninstalling nvidia-nvjitlink-cu12-12.9.41:\n",
      "      Successfully uninstalled nvidia-nvjitlink-cu12-12.9.41\n",
      "  Attempting uninstall: nvidia-curand-cu12\n",
      "    Found existing installation: nvidia-curand-cu12 10.3.10.19\n",
      "    Uninstalling nvidia-curand-cu12-10.3.10.19:\n",
      "      Successfully uninstalled nvidia-curand-cu12-10.3.10.19\n",
      "  Attempting uninstall: nvidia-cufft-cu12\n",
      "    Found existing installation: nvidia-cufft-cu12 11.4.0.6\n",
      "    Uninstalling nvidia-cufft-cu12-11.4.0.6:\n",
      "      Successfully uninstalled nvidia-cufft-cu12-11.4.0.6\n",
      "  Attempting uninstall: nvidia-cublas-cu12\n",
      "    Found existing installation: nvidia-cublas-cu12 12.9.0.13\n",
      "    Uninstalling nvidia-cublas-cu12-12.9.0.13:\n",
      "      Successfully uninstalled nvidia-cublas-cu12-12.9.0.13\n",
      "  Attempting uninstall: nvidia-cusparse-cu12\n",
      "    Found existing installation: nvidia-cusparse-cu12 12.5.9.5\n",
      "    Uninstalling nvidia-cusparse-cu12-12.5.9.5:\n",
      "      Successfully uninstalled nvidia-cusparse-cu12-12.5.9.5\n",
      "  Attempting uninstall: nvidia-cudnn-cu12\n",
      "    Found existing installation: nvidia-cudnn-cu12 9.3.0.75\n",
      "    Uninstalling nvidia-cudnn-cu12-9.3.0.75:\n",
      "      Successfully uninstalled nvidia-cudnn-cu12-9.3.0.75\n",
      "  Attempting uninstall: nvidia-cusolver-cu12\n",
      "    Found existing installation: nvidia-cusolver-cu12 11.7.4.40\n",
      "    Uninstalling nvidia-cusolver-cu12-11.7.4.40:\n",
      "      Successfully uninstalled nvidia-cusolver-cu12-11.7.4.40\n",
      "Successfully installed nvidia-cublas-cu12-12.4.5.8 nvidia-cudnn-cu12-9.1.0.70 nvidia-cufft-cu12-11.2.1.3 nvidia-curand-cu12-10.3.5.147 nvidia-cusolver-cu12-11.6.1.9 nvidia-cusparse-cu12-12.3.1.170 nvidia-nvjitlink-cu12-12.4.127\n"
     ]
    }
   ],
   "source": [
    "!pip install scikit-learn torchvision nibabel opencv-python scikit-image scikit-optimize"
   ]
  },
  {
   "cell_type": "code",
   "execution_count": 6,
   "metadata": {
    "execution": {
     "iopub.execute_input": "2025-06-27T10:02:40.326825Z",
     "iopub.status.busy": "2025-06-27T10:02:40.325992Z",
     "iopub.status.idle": "2025-06-27T10:02:48.157419Z",
     "shell.execute_reply": "2025-06-27T10:02:48.156682Z",
     "shell.execute_reply.started": "2025-06-27T10:02:40.326792Z"
    },
    "trusted": true
   },
   "outputs": [],
   "source": [
    "import os\n",
    "import numpy as np\n",
    "import pandas as pd\n",
    "import nibabel as nib\n",
    "import cv2\n",
    "from tqdm import tqdm\n",
    "from scipy.stats import entropy\n",
    "from skimage.exposure import histogram\n",
    "import torch\n",
    "import torch.nn as nn\n",
    "import torch.optim as optim\n",
    "from torch.utils.data import Dataset, DataLoader, WeightedRandomSampler\n",
    "from torchvision import models, transforms\n",
    "from sklearn.model_selection import train_test_split\n",
    "from sklearn.metrics import classification_report, accuracy_score, roc_auc_score\n",
    "from sklearn.utils.class_weight import compute_class_weight\n",
    "from torch.optim.lr_scheduler import ReduceLROnPlateau\n",
    "from torch.amp import GradScaler, autocast"
   ]
  },
  {
   "cell_type": "code",
   "execution_count": 31,
   "metadata": {
    "execution": {
     "iopub.execute_input": "2025-06-27T10:35:41.210504Z",
     "iopub.status.busy": "2025-06-27T10:35:41.210189Z",
     "iopub.status.idle": "2025-06-27T10:35:41.215005Z",
     "shell.execute_reply": "2025-06-27T10:35:41.214303Z",
     "shell.execute_reply.started": "2025-06-27T10:35:41.210478Z"
    },
    "trusted": true
   },
   "outputs": [],
   "source": [
    "SLICE_SIZE = 112\n",
    "TOP_K = 50\n",
    "BATCH_SIZE = 32\n",
    "EPOCHS = 50\n",
    "PATIENCE = 5\n",
    "DEVICE = torch.device(\"cuda\" if torch.cuda.is_available() else \"cpu\")"
   ]
  },
  {
   "cell_type": "code",
   "execution_count": null,
   "metadata": {
    "execution": {
     "iopub.execute_input": "2025-06-27T10:30:27.896839Z",
     "iopub.status.busy": "2025-06-27T10:30:27.896531Z",
     "iopub.status.idle": "2025-06-27T10:31:50.485453Z",
     "shell.execute_reply": "2025-06-27T10:31:50.484793Z",
     "shell.execute_reply.started": "2025-06-27T10:30:27.896817Z"
    },
    "trusted": true
   },
   "outputs": [
    {
     "name": "stderr",
     "output_type": "stream",
     "text": [
      "100%|██████████| 363/363 [01:20<00:00,  4.49it/s]\n"
     ]
    }
   ],
   "source": [
    "def center_crop(img, crop_size=SLICE_SIZE):\n",
    "    h, w = img.shape\n",
    "    if h < crop_size or w < crop_size:\n",
    "        return none\n",
    "    top = (h - crop_size) // 2\n",
    "    left = (w - crop_size) // 2\n",
    "    return img[top:top+crop_size, left:left+crop_size]\n",
    "\n",
    "def image_entropy(img):\n",
    "    hist, _ = histogram(img, nbins=256)\n",
    "    hist = hist / np.sum(hist)\n",
    "    return entropy(hist, base=2)\n",
    "\n",
    "def extract_top_entropy_slices(nifti_path, top_k=TOP_K):\n",
    "    data = nib.load(nifti_path).get_fdata()\n",
    "    data = (data - np.min(data)) / (np.max(data) - np.min(data)) * 255\n",
    "    slices = []\n",
    "\n",
    "    for axis in range(3):\n",
    "        for i in range(data.shape[axis]):\n",
    "            if axis == 0:\n",
    "                slice_ = data[i, :, :]\n",
    "            elif axis == 1:\n",
    "                slice_ = data[:, i, :]\n",
    "            else:\n",
    "                slice_ = data[:, :, i]\n",
    "\n",
    "            cropped = center_crop(slice_)\n",
    "            if cropped is None:\n",
    "                continue\n",
    "\n",
    "            cropped = cv2.GaussianBlur(cropped, (3, 3), 0)\n",
    "            cropped = cv2.equalizeHist(cropped.astype(np.uint8))\n",
    "            slices.append((image_entropy(cropped), cropped))\n",
    "\n",
    "    slices.sort(reverse=True, key=lambda x: x[0])\n",
    "    top = [cv2.resize(np.stack([s[1]] * 3, axis=-1), (SLICE_SIZE, SLICE_SIZE)) for s in slices[:top_k]]\n",
    "    return top\n",
    "\n",
    "label_map = {\"CN\": 0, \"MCI\": 1, \"AD\": 2}\n",
    "df = pd.read_csv(\"/kaggle/working/filtered_mri_labels.csv\")\n",
    "class_counts = df['Label'].value_counts()\n",
    "max_count = class_counts.max()\n",
    "\n",
    "for label in class_counts.index:\n",
    "    if class_counts[label] < max_count:\n",
    "        df = pd.concat([df, df[df['Label'] == label].sample(\n",
    "            max_count - class_counts[label], replace=True, random_state=42)])\n",
    "\n",
    "all_images = []\n",
    "all_labels = []\n",
    "\n",
    "for idx, row in tqdm(df.iterrows(), total=len(df)):\n",
    "    if row['Label'] not in [0, 1, 2]:\n",
    "        continue\n",
    "    slices = extract_top_entropy_slices(row['FilePath'], top_k=TOP_K)\n",
    "    all_images.extend(slices)\n",
    "    all_labels.extend([row['Label']] * len(slices))\n",
    "\n",
    "X = np.array(all_images, dtype=np.float32) / 255.0\n",
    "y = np.array(all_labels, dtype=np.int64)"
   ]
  },
  {
   "cell_type": "code",
   "execution_count": 26,
   "metadata": {
    "execution": {
     "iopub.execute_input": "2025-06-27T10:31:51.039847Z",
     "iopub.status.busy": "2025-06-27T10:31:51.039431Z",
     "iopub.status.idle": "2025-06-27T10:31:51.046298Z",
     "shell.execute_reply": "2025-06-27T10:31:51.045533Z",
     "shell.execute_reply.started": "2025-06-27T10:31:51.039821Z"
    },
    "trusted": true
   },
   "outputs": [],
   "source": [
    "class MRISliceDataset(Dataset):\n",
    "    def __init__(self, images, labels, train=True):\n",
    "        self.images = images\n",
    "        self.labels = labels\n",
    "        self.train = train\n",
    "        self.transform = transforms.Compose([\n",
    "            transforms.ToPILImage(),\n",
    "            transforms.RandomHorizontalFlip(p=0.5 if train else 0),\n",
    "            transforms.RandomRotation(15 if train else 0),\n",
    "            transforms.ColorJitter(brightness=0.2, contrast=0.2 if train else 0),\n",
    "            transforms.RandomAffine(degrees=0, translate=(0.05, 0.05)) if train else transforms.Lambda(lambda x: x),\n",
    "            transforms.ToTensor(),\n",
    "            transforms.Normalize(mean=[0.485, 0.456, 0.406], std=[0.229, 0.224, 0.225])\n",
    "        ])\n",
    "\n",
    "    def __len__(self):\n",
    "        return len(self.images)\n",
    "\n",
    "    def __getitem__(self, idx):\n",
    "        img = self.images[idx]\n",
    "        label = self.labels[idx]\n",
    "        img = self.transform(img)\n",
    "        return img, torch.tensor(label, dtype=torch.long)"
   ]
  },
  {
   "cell_type": "code",
   "execution_count": 27,
   "metadata": {
    "execution": {
     "iopub.execute_input": "2025-06-27T10:31:54.602041Z",
     "iopub.status.busy": "2025-06-27T10:31:54.601437Z",
     "iopub.status.idle": "2025-06-27T10:31:55.399642Z",
     "shell.execute_reply": "2025-06-27T10:31:55.399098Z",
     "shell.execute_reply.started": "2025-06-27T10:31:54.602017Z"
    },
    "trusted": true
   },
   "outputs": [],
   "source": [
    "X_train, X_val, y_train, y_val = train_test_split(\n",
    "    X, y, stratify=y, test_size=0.2, random_state=42)"
   ]
  },
  {
   "cell_type": "code",
   "execution_count": 28,
   "metadata": {
    "execution": {
     "iopub.execute_input": "2025-06-27T10:31:57.655602Z",
     "iopub.status.busy": "2025-06-27T10:31:57.655058Z",
     "iopub.status.idle": "2025-06-27T10:31:57.678099Z",
     "shell.execute_reply": "2025-06-27T10:31:57.677292Z",
     "shell.execute_reply.started": "2025-06-27T10:31:57.655581Z"
    },
    "trusted": true
   },
   "outputs": [],
   "source": [
    "class_weights = compute_class_weight('balanced', classes=np.unique(y_train), y=y_train)\n",
    "sample_weights = torch.tensor([class_weights[int(y)] for y in y_train], dtype=torch.float)\n",
    "sampler = WeightedRandomSampler(sample_weights, len(sample_weights))\n",
    "\n",
    "train_ds = MRISliceDataset(X_train, y_train, train=True)\n",
    "val_ds = MRISliceDataset(X_val, y_val, train=False)\n",
    "\n",
    "train_loader = DataLoader(train_ds, batch_size=BATCH_SIZE, sampler=sampler, num_workers=4, pin_memory=True)\n",
    "val_loader = DataLoader(val_ds, batch_size=BATCH_SIZE, num_workers=4, pin_memory=True)"
   ]
  },
  {
   "cell_type": "code",
   "execution_count": 29,
   "metadata": {
    "execution": {
     "iopub.execute_input": "2025-06-27T10:32:01.395400Z",
     "iopub.status.busy": "2025-06-27T10:32:01.394849Z",
     "iopub.status.idle": "2025-06-27T10:32:01.943561Z",
     "shell.execute_reply": "2025-06-27T10:32:01.942798Z",
     "shell.execute_reply.started": "2025-06-27T10:32:01.395376Z"
    },
    "trusted": true
   },
   "outputs": [],
   "source": [
    "class ResNet50Multiclass(nn.Module):\n",
    "    def __init__(self):\n",
    "        super().__init__()\n",
    "        self.backbone = models.resnet50(weights=models.ResNet50_Weights.IMAGENET1K_V2)\n",
    "        for param in self.backbone.parameters():\n",
    "            param.requires_grad = False\n",
    "        for param in self.backbone.layer3.parameters():\n",
    "            param.requires_grad = True\n",
    "        for param in self.backbone.layer4.parameters():\n",
    "            param.requires_grad = True\n",
    "        self.backbone.fc = nn.Sequential(\n",
    "            nn.Dropout(p=0.5),\n",
    "            nn.Linear(2048, 3)\n",
    "        )\n",
    "\n",
    "    def forward(self, x):\n",
    "        return self.backbone(x)\n",
    "\n",
    "model = ResNet50Multiclass().to(DEVICE)\n",
    "criterion = nn.CrossEntropyLoss(weight=torch.tensor(class_weights, dtype=torch.float32).to(DEVICE))\n",
    "optimizer = optim.AdamW(model.parameters(), lr=1e-4, weight_decay=1e-4)\n",
    "scheduler = ReduceLROnPlateau(optimizer, 'max', patience=3, factor=0.1)\n",
    "scaler = GradScaler(device=\"cuda\")"
   ]
  },
  {
   "cell_type": "code",
   "execution_count": 32,
   "metadata": {
    "execution": {
     "iopub.execute_input": "2025-06-27T10:35:50.635821Z",
     "iopub.status.busy": "2025-06-27T10:35:50.635529Z",
     "iopub.status.idle": "2025-06-27T10:52:03.003134Z",
     "shell.execute_reply": "2025-06-27T10:52:03.002326Z",
     "shell.execute_reply.started": "2025-06-27T10:35:50.635784Z"
    },
    "trusted": true
   },
   "outputs": [
    {
     "name": "stdout",
     "output_type": "stream",
     "text": [
      "Epoch 1/50 - Train Loss: 0.4577 - Train Acc: 0.8145 - Val Acc: 0.8457\n",
      "Epoch 2/50 - Train Loss: 0.4179 - Train Acc: 0.8294 - Val Acc: 0.8625\n",
      "Epoch 3/50 - Train Loss: 0.3867 - Train Acc: 0.8465 - Val Acc: 0.8713\n",
      "Epoch 4/50 - Train Loss: 0.3578 - Train Acc: 0.8571 - Val Acc: 0.8755\n",
      "Epoch 5/50 - Train Loss: 0.3216 - Train Acc: 0.8757 - Val Acc: 0.8840\n",
      "Epoch 6/50 - Train Loss: 0.3034 - Train Acc: 0.8842 - Val Acc: 0.8948\n",
      "Epoch 7/50 - Train Loss: 0.2730 - Train Acc: 0.8937 - Val Acc: 0.8986\n",
      "Epoch 8/50 - Train Loss: 0.2717 - Train Acc: 0.8950 - Val Acc: 0.9094\n",
      "Epoch 9/50 - Train Loss: 0.2402 - Train Acc: 0.9103 - Val Acc: 0.8992\n",
      "Epoch 10/50 - Train Loss: 0.2350 - Train Acc: 0.9108 - Val Acc: 0.9182\n",
      "Epoch 11/50 - Train Loss: 0.2177 - Train Acc: 0.9191 - Val Acc: 0.9165\n",
      "Epoch 12/50 - Train Loss: 0.2136 - Train Acc: 0.9194 - Val Acc: 0.9245\n",
      "Epoch 13/50 - Train Loss: 0.1976 - Train Acc: 0.9272 - Val Acc: 0.9328\n",
      "Epoch 14/50 - Train Loss: 0.1818 - Train Acc: 0.9325 - Val Acc: 0.9416\n",
      "Epoch 15/50 - Train Loss: 0.1790 - Train Acc: 0.9334 - Val Acc: 0.9339\n",
      "Epoch 16/50 - Train Loss: 0.1677 - Train Acc: 0.9364 - Val Acc: 0.9361\n",
      "Epoch 17/50 - Train Loss: 0.1584 - Train Acc: 0.9424 - Val Acc: 0.9488\n",
      "Epoch 18/50 - Train Loss: 0.1591 - Train Acc: 0.9421 - Val Acc: 0.9515\n",
      "Epoch 19/50 - Train Loss: 0.1406 - Train Acc: 0.9486 - Val Acc: 0.9496\n",
      "Epoch 20/50 - Train Loss: 0.1359 - Train Acc: 0.9519 - Val Acc: 0.9457\n",
      "Epoch 21/50 - Train Loss: 0.1361 - Train Acc: 0.9514 - Val Acc: 0.9548\n",
      "Epoch 22/50 - Train Loss: 0.1223 - Train Acc: 0.9549 - Val Acc: 0.9526\n",
      "Epoch 23/50 - Train Loss: 0.1246 - Train Acc: 0.9547 - Val Acc: 0.9551\n",
      "Epoch 24/50 - Train Loss: 0.1185 - Train Acc: 0.9570 - Val Acc: 0.9496\n",
      "Epoch 25/50 - Train Loss: 0.1181 - Train Acc: 0.9581 - Val Acc: 0.9570\n",
      "Epoch 26/50 - Train Loss: 0.1116 - Train Acc: 0.9599 - Val Acc: 0.9581\n",
      "Epoch 27/50 - Train Loss: 0.1104 - Train Acc: 0.9605 - Val Acc: 0.9504\n",
      "Epoch 28/50 - Train Loss: 0.1080 - Train Acc: 0.9616 - Val Acc: 0.9612\n",
      "Epoch 29/50 - Train Loss: 0.0972 - Train Acc: 0.9670 - Val Acc: 0.9639\n",
      "Epoch 30/50 - Train Loss: 0.1021 - Train Acc: 0.9637 - Val Acc: 0.9584\n",
      "Epoch 31/50 - Train Loss: 0.0956 - Train Acc: 0.9656 - Val Acc: 0.9628\n",
      "Epoch 32/50 - Train Loss: 0.0954 - Train Acc: 0.9665 - Val Acc: 0.9587\n",
      "Epoch 33/50 - Train Loss: 0.0853 - Train Acc: 0.9687 - Val Acc: 0.9639\n",
      "Epoch 34/50 - Train Loss: 0.0612 - Train Acc: 0.9787 - Val Acc: 0.9747\n",
      "Epoch 35/50 - Train Loss: 0.0456 - Train Acc: 0.9839 - Val Acc: 0.9785\n",
      "Epoch 36/50 - Train Loss: 0.0417 - Train Acc: 0.9864 - Val Acc: 0.9766\n",
      "Epoch 37/50 - Train Loss: 0.0362 - Train Acc: 0.9879 - Val Acc: 0.9791\n",
      "Epoch 38/50 - Train Loss: 0.0367 - Train Acc: 0.9877 - Val Acc: 0.9793\n",
      "Epoch 39/50 - Train Loss: 0.0329 - Train Acc: 0.9888 - Val Acc: 0.9796\n",
      "Epoch 40/50 - Train Loss: 0.0312 - Train Acc: 0.9893 - Val Acc: 0.9851\n",
      "Epoch 41/50 - Train Loss: 0.0320 - Train Acc: 0.9884 - Val Acc: 0.9821\n",
      "Epoch 42/50 - Train Loss: 0.0283 - Train Acc: 0.9904 - Val Acc: 0.9821\n",
      "Epoch 43/50 - Train Loss: 0.0252 - Train Acc: 0.9915 - Val Acc: 0.9818\n",
      "Epoch 44/50 - Train Loss: 0.0245 - Train Acc: 0.9919 - Val Acc: 0.9810\n",
      "Epoch 45/50 - Train Loss: 0.0254 - Train Acc: 0.9909 - Val Acc: 0.9804\n",
      "Early stopping at epoch 45\n"
     ]
    }
   ],
   "source": [
    "best_acc = 0\n",
    "best_auc = 0\n",
    "no_improve = 0\n",
    "\n",
    "for epoch in range(1, EPOCHS + 1):\n",
    "    model.train()\n",
    "    running_loss = 0.0\n",
    "    correct = 0\n",
    "    total = 0\n",
    "\n",
    "    for X_batch, y_batch in train_loader:\n",
    "        X_batch, y_batch = X_batch.to(DEVICE), y_batch.to(DEVICE)\n",
    "        optimizer.zero_grad()\n",
    "\n",
    "        with autocast(device_type=\"cuda\"):\n",
    "            outputs = model(X_batch)\n",
    "            loss = criterion(outputs, y_batch)\n",
    "\n",
    "        scaler.scale(loss).backward()\n",
    "        scaler.step(optimizer)\n",
    "        scaler.update()\n",
    "\n",
    "        running_loss += loss.item()\n",
    "        preds = torch.argmax(outputs, dim=1)\n",
    "        correct += (preds == y_batch).sum().item()\n",
    "        total += y_batch.size(0)\n",
    "\n",
    "    train_acc = correct / total\n",
    "\n",
    "    model.eval()\n",
    "    val_preds = []\n",
    "    val_probs = []\n",
    "    val_true = []\n",
    "    with torch.no_grad():\n",
    "        for X_batch, y_batch in val_loader:\n",
    "            X_batch = X_batch.to(DEVICE)\n",
    "            outputs = model(X_batch)\n",
    "            probs = torch.softmax(outputs, dim=1)\n",
    "            preds = torch.argmax(probs, dim=1)\n",
    "            val_probs.extend(probs.cpu().numpy())\n",
    "            val_preds.extend(preds.cpu().numpy())\n",
    "            val_true.extend(y_batch.cpu().numpy())\n",
    "\n",
    "    val_acc = accuracy_score(val_true, val_preds)\n",
    "    scheduler.step(val_acc)\n",
    "\n",
    "    print(f\"Epoch {epoch}/{EPOCHS} - \"\n",
    "          f\"Train Loss: {running_loss/len(train_loader):.4f} - \"\n",
    "          f\"Train Acc: {train_acc:.4f} - \"\n",
    "          f\"Val Acc: {val_acc:.4f}\")\n",
    "\n",
    "    if val_acc > best_acc:\n",
    "        best_acc = val_acc\n",
    "        no_improve = 0\n",
    "        torch.save(model.state_dict(), \"best_resnet50_multiclass.pth\")\n",
    "    else:\n",
    "        no_improve += 1\n",
    "        if no_improve == PATIENCE:\n",
    "            print(f\"Early stopping at epoch {epoch}\")\n",
    "            break"
   ]
  },
  {
   "cell_type": "code",
   "execution_count": 33,
   "metadata": {
    "execution": {
     "iopub.execute_input": "2025-06-27T10:53:10.411783Z",
     "iopub.status.busy": "2025-06-27T10:53:10.411023Z",
     "iopub.status.idle": "2025-06-27T10:53:12.816076Z",
     "shell.execute_reply": "2025-06-27T10:53:12.815282Z",
     "shell.execute_reply.started": "2025-06-27T10:53:10.411753Z"
    },
    "trusted": true
   },
   "outputs": [
    {
     "name": "stdout",
     "output_type": "stream",
     "text": [
      "\n",
      "Final Evaluation:\n",
      "              precision    recall  f1-score   support\n",
      "\n",
      "          CN       0.98      0.98      0.98      1210\n",
      "         MCI       0.99      1.00      0.99      1210\n",
      "          AD       0.98      0.97      0.98      1210\n",
      "\n",
      "    accuracy                           0.98      3630\n",
      "   macro avg       0.98      0.98      0.98      3630\n",
      "weighted avg       0.98      0.98      0.98      3630\n",
      "\n",
      "Best Validation Accuracy: 0.9851\n"
     ]
    }
   ],
   "source": [
    "model.load_state_dict(torch.load(\"best_resnet50_multiclass.pth\"))\n",
    "model.eval()\n",
    "\n",
    "final_preds = []\n",
    "final_true = []\n",
    "\n",
    "with torch.no_grad():\n",
    "    for X_batch, y_batch in val_loader:\n",
    "        X_batch = X_batch.to(DEVICE)\n",
    "        outputs = model(X_batch)\n",
    "        preds = torch.argmax(outputs, dim=1)\n",
    "        final_preds.extend(preds.cpu().numpy())\n",
    "        final_true.extend(y_batch.cpu().numpy())\n",
    "\n",
    "print(\"\\nFinal Evaluation:\")\n",
    "print(classification_report(final_true, final_preds, target_names=[\"CN\", \"MCI\", \"AD\"]))\n",
    "print(f\"Best Validation Accuracy: {best_acc:.4f}\")"
   ]
  },
  {
   "cell_type": "code",
   "execution_count": 34,
   "metadata": {
    "execution": {
     "iopub.execute_input": "2025-06-27T10:53:22.356021Z",
     "iopub.status.busy": "2025-06-27T10:53:22.355301Z",
     "iopub.status.idle": "2025-06-27T10:53:22.359899Z",
     "shell.execute_reply": "2025-06-27T10:53:22.359107Z",
     "shell.execute_reply.started": "2025-06-27T10:53:22.355984Z"
    },
    "trusted": true
   },
   "outputs": [],
   "source": [
    "import matplotlib.pyplot as plt\n",
    "import seaborn as sns\n",
    "from sklearn.metrics import roc_auc_score, roc_curve, confusion_matrix"
   ]
  },
  {
   "cell_type": "code",
   "execution_count": 35,
   "metadata": {
    "execution": {
     "iopub.execute_input": "2025-06-27T10:53:25.640859Z",
     "iopub.status.busy": "2025-06-27T10:53:25.640588Z",
     "iopub.status.idle": "2025-06-27T10:53:26.060938Z",
     "shell.execute_reply": "2025-06-27T10:53:26.060292Z",
     "shell.execute_reply.started": "2025-06-27T10:53:25.640839Z"
    },
    "trusted": true
   },
   "outputs": [
    {
     "name": "stdout",
     "output_type": "stream",
     "text": [
      "\n",
      "Per-class ROC AUC Scores (One-vs-Rest):\n",
      "CN: AUC = 0.9992\n",
      "MCI: AUC = 0.9995\n",
      "AD: AUC = 0.9991\n"
     ]
    },
    {
     "data": {
      "image/png": "[encoded data removed]",
      "text/plain": [
       "<Figure size 800x600 with 1 Axes>"
      ]
     },
     "metadata": {},
     "output_type": "display_data"
    },
    {
     "data": {
      "image/png": "[encoded data removed]",
      "text/plain": [
       "<Figure size 600x500 with 2 Axes>"
      ]
     },
     "metadata": {},
     "output_type": "display_data"
    }
   ],
   "source": [
    "import matplotlib.pyplot as plt\n",
    "import seaborn as sns\n",
    "from sklearn.metrics import roc_auc_score, roc_curve, confusion_matrix\n",
    "\n",
    "# AUC\n",
    "val_probs = np.array(val_probs)  \n",
    "val_true_onehot = np.eye(3)[final_true]  \n",
    "\n",
    "print(\"\\nPer-class ROC AUC Scores (One-vs-Rest):\")\n",
    "for i, label in enumerate([\"CN\", \"MCI\", \"AD\"]):\n",
    "    auc_score = roc_auc_score(val_true_onehot[:, i], val_probs[:, i])\n",
    "    print(f\"{label}: AUC = {auc_score:.4f}\")\n",
    "\n",
    "# ROC curves\n",
    "plt.figure(figsize=(8, 6))\n",
    "for i, label in enumerate([\"CN\", \"MCI\", \"AD\"]):\n",
    "    fpr, tpr, _ = roc_curve(val_true_onehot[:, i], val_probs[:, i])\n",
    "    plt.plot(fpr, tpr, label=f\"{label} (AUC = {roc_auc_score(val_true_onehot[:, i], val_probs[:, i]):.2f})\")\n",
    "plt.plot([0, 1], [0, 1], linestyle=\"--\", color=\"gray\")\n",
    "plt.xlabel(\"False Positive Rate\")\n",
    "plt.ylabel(\"True Positive Rate\")\n",
    "plt.title(\"ROC Curves (One-vs-Rest)\")\n",
    "plt.legend()\n",
    "plt.grid()\n",
    "plt.tight_layout()\n",
    "plt.show()\n",
    "\n",
    "# Confusion Matrix\n",
    "cm = confusion_matrix(final_true, final_preds)\n",
    "plt.figure(figsize=(6, 5))\n",
    "sns.heatmap(cm, annot=True, fmt=\"d\", cmap=\"Blues\", xticklabels=[\"CN\", \"MCI\", \"AD\"], yticklabels=[\"CN\", \"MCI\", \"AD\"])\n",
    "plt.xlabel(\"Predicted\")\n",
    "plt.ylabel(\"True Label\")\n",
    "plt.title(\"Confusion Matrix\")\n",
    "plt.tight_layout()\n",
    "plt.show()"
   ]
  },
  {
   "cell_type": "code",
   "execution_count": null,
   "metadata": {
    "trusted": true
   },
   "outputs": [],
   "source": []
  }
 ],
 "metadata": {
  "kaggle": {
   "accelerator": "gpu",
   "dataSources": [
    {
     "datasetId": 7747027,
     "sourceId": 12291805,
     "sourceType": "datasetVersion"
    },
    {
     "datasetId": 7752728,
     "sourceId": 12300205,
     "sourceType": "datasetVersion"
    }
   ],
   "dockerImageVersionId": 31040,
   "isGpuEnabled": true,
   "isInternetEnabled": true,
   "language": "python",
   "sourceType": "notebook"
  },
  "kernelspec": {
   "display_name": "Python 3",
   "language": "python",
   "name": "python3"
  },
  "language_info": {
   "codemirror_mode": {
    "name": "ipython",
    "version": 3
   },
   "file_extension": ".py",
   "mimetype": "text/x-python",
   "name": "python",
   "nbconvert_exporter": "python",
   "pygments_lexer": "ipython3",
   "version": "3.11.11"
  }
 },
 "nbformat": 4,
 "nbformat_minor": 4
}
